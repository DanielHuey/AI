{
 "cells": [
  {
   "cell_type": "code",
   "execution_count": 1,
   "metadata": {},
   "outputs": [],
   "source": [
    "import wave\n",
    "import numpy as np\n",
    "\n",
    "from functions import prepare_audio,snipAI\n"
   ]
  },
  {
   "cell_type": "code",
   "execution_count": 2,
   "metadata": {},
   "outputs": [
    {
     "name": "stdout",
     "output_type": "stream",
     "text": [
      "(16000,)\n"
     ]
    }
   ],
   "source": [
    "# snipAI = tf.saved_model.load(pathlib.Path(\"SnipAI\"))\n",
    "obj = wave.open(str('left/00b01445_nohash_0.wav'), 'rb')\n",
    "n_samples=obj.getnframes()\n",
    "signal_wv = obj.readframes(n_samples)\n",
    "signal_arr = np.frombuffer(signal_wv, dtype=np.int16)\n",
    "obj.close()\n",
    "\n",
    "print(signal_arr.shape)"
   ]
  },
  {
   "cell_type": "code",
   "execution_count": 3,
   "metadata": {},
   "outputs": [
    {
     "data": {
      "text/plain": [
       "{'class_ids': <tf.Tensor: shape=(1,), dtype=int64, numpy=array([1], dtype=int64)>,\n",
       " 'predictions': <tf.Tensor: shape=(1, 2), dtype=float32, numpy=array([[-5.419623,  7.936255]], dtype=float32)>,\n",
       " 'class_names': <tf.Tensor: shape=(1,), dtype=string, numpy=array([b'left'], dtype=object)>}"
      ]
     },
     "execution_count": 3,
     "metadata": {},
     "output_type": "execute_result"
    }
   ],
   "source": [
    "snipAI(prepare_audio(signal_arr))"
   ]
  }
 ],
 "metadata": {
  "kernelspec": {
   "display_name": "Python 3.7.3 64-bit",
   "language": "python",
   "name": "python3"
  },
  "language_info": {
   "codemirror_mode": {
    "name": "ipython",
    "version": 3
   },
   "file_extension": ".py",
   "mimetype": "text/x-python",
   "name": "python",
   "nbconvert_exporter": "python",
   "pygments_lexer": "ipython3",
   "version": "3.7.3"
  },
  "orig_nbformat": 4,
  "vscode": {
   "interpreter": {
    "hash": "1544220b55a0feec46d2c5c4e6446017a8c7b094d15952baad84bf8414ab38dd"
   }
  }
 },
 "nbformat": 4,
 "nbformat_minor": 2
}
